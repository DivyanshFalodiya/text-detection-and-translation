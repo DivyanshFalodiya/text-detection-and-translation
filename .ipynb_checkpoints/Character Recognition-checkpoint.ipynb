{
 "cells": [
  {
   "cell_type": "code",
   "execution_count": 1,
   "id": "a6ac34f1",
   "metadata": {},
   "outputs": [],
   "source": [
    "import numpy as np\n",
    "import pandas as pd\n",
    "import glob\n",
    "import matplotlib.pyplot as plt\n",
    "import cv2"
   ]
  },
  {
   "cell_type": "markdown",
   "id": "c3acd7c2",
   "metadata": {},
   "source": [
    "# New Font Based Model\n",
    "https://archive.ics.uci.edu/ml/datasets/Character+Font+Images#"
   ]
  },
  {
   "cell_type": "markdown",
   "id": "3dd996c3",
   "metadata": {},
   "source": [
    "# Font Based Data"
   ]
  },
  {
   "cell_type": "code",
   "execution_count": 8,
   "id": "21980063",
   "metadata": {},
   "outputs": [
    {
     "data": {
      "text/plain": [
       "62"
      ]
     },
     "execution_count": 8,
     "metadata": {},
     "output_type": "execute_result"
    }
   ],
   "source": [
    "fnt_directories = glob.glob('./datasets/Characters/Fnt/*/')\n",
    "len(fnt_directories)"
   ]
  },
  {
   "cell_type": "code",
   "execution_count": 9,
   "id": "85bfcfc1",
   "metadata": {},
   "outputs": [],
   "source": [
    "fnt_data = []\n",
    "fnt_labels = []\n",
    "for folder in fnt_directories:\n",
    "    label = int((folder[-4:])[:3])\n",
    "    for file in glob.glob(folder+'/*'):\n",
    "        image = cv2.cvtColor(cv2.imread(file), cv2.COLOR_BGR2GRAY)\n",
    "        image = cv2.resize(image, (28,28))\n",
    "        image_arr = np.array(image)\n",
    "        fnt_data.append(image_arr)\n",
    "        fnt_labels.append(label)"
   ]
  },
  {
   "cell_type": "code",
   "execution_count": 49,
   "id": "1a1c20fa",
   "metadata": {},
   "outputs": [],
   "source": [
    "np_fnt_data = np.array(fnt_data)\n",
    "np_fnt_labels = np.array(fnt_labels)\n"
   ]
  },
  {
   "cell_type": "code",
   "execution_count": 50,
   "id": "32460c6c",
   "metadata": {},
   "outputs": [
    {
     "data": {
      "text/plain": [
       "array([ 1,  2,  3,  4,  5,  6,  7,  8,  9, 10, 11, 12, 13, 14, 15, 16, 17,\n",
       "       18, 19, 20, 21, 22, 23, 24, 25, 26, 27, 28, 29, 30, 31, 32, 33, 34,\n",
       "       35, 36, 37, 38, 39, 40, 41, 42, 43, 44, 45, 46, 47, 48, 49, 50, 51,\n",
       "       52, 53, 54, 55, 56, 57, 58, 59, 60, 61, 62])"
      ]
     },
     "execution_count": 50,
     "metadata": {},
     "output_type": "execute_result"
    }
   ],
   "source": [
    "np.unique(np_fnt_labels)"
   ]
  },
  {
   "cell_type": "code",
   "execution_count": 51,
   "id": "509bf8e5",
   "metadata": {},
   "outputs": [
    {
     "data": {
      "text/plain": [
       "((62992, 28, 28), (62992,))"
      ]
     },
     "execution_count": 51,
     "metadata": {},
     "output_type": "execute_result"
    }
   ],
   "source": [
    "np_fnt_data.shape, np_fnt_labels.shape"
   ]
  },
  {
   "cell_type": "code",
   "execution_count": 52,
   "id": "84b512c1",
   "metadata": {},
   "outputs": [
    {
     "data": {
      "text/plain": [
       "<matplotlib.image.AxesImage at 0x193023fc700>"
      ]
     },
     "execution_count": 52,
     "metadata": {},
     "output_type": "execute_result"
    },
    {
     "data": {
      "image/png": "[encoded data removed]",
      "text/plain": [
       "<Figure size 288x288 with 1 Axes>"
      ]
     },
     "metadata": {
      "needs_background": "light"
     },
     "output_type": "display_data"
    }
   ],
   "source": [
    "plt.matshow(np_fnt_data[1])"
   ]
  },
  {
   "cell_type": "markdown",
   "id": "fa0c967a",
   "metadata": {},
   "source": [
    "# Handwritten Data"
   ]
  },
  {
   "cell_type": "code",
   "execution_count": 7,
   "id": "84927a57",
   "metadata": {},
   "outputs": [
    {
     "data": {
      "text/plain": [
       "62"
      ]
     },
     "execution_count": 7,
     "metadata": {},
     "output_type": "execute_result"
    }
   ],
   "source": [
    "hnd_directories = glob.glob('./datasets/Characters/Img/*/')\n",
    "len(hnd_directories)"
   ]
  },
  {
   "cell_type": "code",
   "execution_count": 8,
   "id": "2024d864",
   "metadata": {},
   "outputs": [],
   "source": [
    "hnd_data = []\n",
    "hnd_labels = []\n",
    "for folder in hnd_directories:\n",
    "    label = int((folder[-4:])[:3])\n",
    "    for file in glob.glob(folder+'/*'):\n",
    "        image = cv2.cvtColor(cv2.imread(file), cv2.COLOR_BGR2GRAY)\n",
    "        image = cv2.resize(image, (28,28))\n",
    "        image_arr = np.array(image)\n",
    "        hnd_data.append(image_arr)\n",
    "        hnd_labels.append(label)"
   ]
  },
  {
   "cell_type": "code",
   "execution_count": 9,
   "id": "d55ccecb",
   "metadata": {},
   "outputs": [],
   "source": [
    "np_hnd_data = np.array(hnd_data)\n",
    "np_hnd_labels = np.array(hnd_labels)"
   ]
  },
  {
   "cell_type": "code",
   "execution_count": 10,
   "id": "ba2d7476",
   "metadata": {},
   "outputs": [
    {
     "data": {
      "text/plain": [
       "((3410, 28, 28), (3410,))"
      ]
     },
     "execution_count": 10,
     "metadata": {},
     "output_type": "execute_result"
    }
   ],
   "source": [
    "np_hnd_data.shape, np_hnd_labels.shape"
   ]
  },
  {
   "cell_type": "code",
   "execution_count": 11,
   "id": "2a5fe269",
   "metadata": {},
   "outputs": [
    {
     "data": {
      "text/plain": [
       "<matplotlib.image.AxesImage at 0x7fdd062422b0>"
      ]
     },
     "execution_count": 11,
     "metadata": {},
     "output_type": "execute_result"
    },
    {
     "data": {
      "image/png": "[encoded data removed]",
      "text/plain": [
       "<Figure size 288x288 with 1 Axes>"
      ]
     },
     "metadata": {
      "needs_background": "light"
     },
     "output_type": "display_data"
    }
   ],
   "source": [
    "plt.matshow(np_hnd_data[1])"
   ]
  },
  {
   "cell_type": "code",
   "execution_count": 53,
   "id": "ae190cce",
   "metadata": {},
   "outputs": [
    {
     "data": {
      "text/plain": [
       "(array([ 1,  2,  3,  4,  5,  6,  7,  8,  9, 10, 11, 12, 13, 14, 15, 16, 17,\n",
       "        18, 19, 20, 21, 22, 23, 24, 25, 26, 27, 28, 29, 30, 31, 32, 33, 34,\n",
       "        35, 36, 37, 38, 39, 40, 41, 42, 43, 44, 45, 46, 47, 48, 49, 50, 51,\n",
       "        52, 53, 54, 55, 56, 57, 58, 59, 60, 61, 62]),\n",
       " array([1016, 1016, 1016, 1016, 1016, 1016, 1016, 1016, 1016, 1016, 1016,\n",
       "        1016, 1016, 1016, 1016, 1016, 1016, 1016, 1016, 1016, 1016, 1016,\n",
       "        1016, 1016, 1016, 1016, 1016, 1016, 1016, 1016, 1016, 1016, 1016,\n",
       "        1016, 1016, 1016, 1016, 1016, 1016, 1016, 1016, 1016, 1016, 1016,\n",
       "        1016, 1016, 1016, 1016, 1016, 1016, 1016, 1016, 1016, 1016, 1016,\n",
       "        1016, 1016, 1016, 1016, 1016, 1016, 1016], dtype=int64))"
      ]
     },
     "execution_count": 53,
     "metadata": {},
     "output_type": "execute_result"
    },
    {
     "data": {
      "image/png": "[encoded data removed]",
      "text/plain": [
       "<Figure size 432x288 with 1 Axes>"
      ]
     },
     "metadata": {
      "needs_background": "light"
     },
     "output_type": "display_data"
    }
   ],
   "source": [
    "indices, n_indices = np.unique(np.hstack([np_fnt_labels]), return_counts=True)\n",
    "plt.bar(indices, n_indices)\n",
    "indices, n_indices"
   ]
  },
  {
   "cell_type": "markdown",
   "id": "498daedc",
   "metadata": {},
   "source": [
    "# Complete Data"
   ]
  },
  {
   "cell_type": "code",
   "execution_count": 54,
   "id": "92daaa9f",
   "metadata": {},
   "outputs": [
    {
     "data": {
      "text/plain": [
       "((62992, 28, 28), (62992,))"
      ]
     },
     "execution_count": 54,
     "metadata": {},
     "output_type": "execute_result"
    }
   ],
   "source": [
    "# data = np.vstack((np_fnt_data))\n",
    "# labels = np.hstack((np_fnt_labels))\n",
    "data = np_fnt_data\n",
    "labels = np_fnt_labels\n",
    "# data = data / 255\n",
    "labels -= 1\n",
    "# temp = (labels > 35) * 26\n",
    "# labels = labels - temp\n",
    "data.shape, labels.shape\n"
   ]
  },
  {
   "cell_type": "code",
   "execution_count": 55,
   "id": "a6c37971",
   "metadata": {},
   "outputs": [
    {
     "data": {
      "text/plain": [
       "array([ 0,  1,  2,  3,  4,  5,  6,  7,  8,  9, 10, 11, 12, 13, 14, 15, 16,\n",
       "       17, 18, 19, 20, 21, 22, 23, 24, 25, 26, 27, 28, 29, 30, 31, 32, 33,\n",
       "       34, 35, 36, 37, 38, 39, 40, 41, 42, 43, 44, 45, 46, 47, 48, 49, 50,\n",
       "       51, 52, 53, 54, 55, 56, 57, 58, 59, 60, 61])"
      ]
     },
     "execution_count": 55,
     "metadata": {},
     "output_type": "execute_result"
    }
   ],
   "source": [
    "np.unique(np_fnt_labels)"
   ]
  },
  {
   "cell_type": "code",
   "execution_count": 56,
   "id": "c3a6ac25",
   "metadata": {},
   "outputs": [
    {
     "data": {
      "image/png": "[encoded data removed]",
      "text/plain": [
       "<Figure size 432x288 with 62 Axes>"
      ]
     },
     "metadata": {},
     "output_type": "display_data"
    }
   ],
   "source": [
    " _, unq_ind= np.unique(labels, return_index=True)\n",
    "for i in range(len(unq_ind)):\n",
    "    plt.subplot(3, 22, i+1)\n",
    "    plt.xticks([])\n",
    "    plt.yticks([])\n",
    "    plt.xlabel(labels[unq_ind[i]])\n",
    "    plt.imshow(data[unq_ind[i]])"
   ]
  },
  {
   "cell_type": "code",
   "execution_count": 68,
   "id": "4a0f1001",
   "metadata": {},
   "outputs": [
    {
     "data": {
      "text/plain": [
       "((47244, 28, 28), (47244,), (15748, 28, 28), (15748,))"
      ]
     },
     "execution_count": 68,
     "metadata": {},
     "output_type": "execute_result"
    }
   ],
   "source": [
    "from sklearn.model_selection import train_test_split\n",
    "x_train, x_test, y_train, y_test = train_test_split(data, labels)\n",
    "x_train.shape, y_train.shape, x_test.shape, y_test.shape"
   ]
  },
  {
   "cell_type": "code",
   "execution_count": 69,
   "id": "6880d17c",
   "metadata": {},
   "outputs": [
    {
     "data": {
      "text/plain": [
       "(array([ 0,  1,  2,  3,  4,  5,  6,  7,  8,  9, 10, 11, 12, 13, 14, 15, 16,\n",
       "        17, 18, 19, 20, 21, 22, 23, 24, 25, 26, 27, 28, 29, 30, 31, 32, 33,\n",
       "        34, 35, 36, 37, 38, 39, 40, 41, 42, 43, 44, 45, 46, 47, 48, 49, 50,\n",
       "        51, 52, 53, 54, 55, 56, 57, 58, 59, 60, 61]),\n",
       " array([1016, 1016, 1016, 1016, 1016, 1016, 1016, 1016, 1016, 1016, 1016,\n",
       "        1016, 1016, 1016, 1016, 1016, 1016, 1016, 1016, 1016, 1016, 1016,\n",
       "        1016, 1016, 1016, 1016, 1016, 1016, 1016, 1016, 1016, 1016, 1016,\n",
       "        1016, 1016, 1016, 1016, 1016, 1016, 1016, 1016, 1016, 1016, 1016,\n",
       "        1016, 1016, 1016, 1016, 1016, 1016, 1016, 1016, 1016, 1016, 1016,\n",
       "        1016, 1016, 1016, 1016, 1016, 1016, 1016], dtype=int64))"
      ]
     },
     "execution_count": 69,
     "metadata": {},
     "output_type": "execute_result"
    },
    {
     "data": {
      "image/png": "[encoded data removed]",
      "text/plain": [
       "<Figure size 432x288 with 1 Axes>"
      ]
     },
     "metadata": {
      "needs_background": "light"
     },
     "output_type": "display_data"
    }
   ],
   "source": [
    "indices, n_indices = np.unique(labels, return_counts=True)\n",
    "plt.bar(indices, n_indices)\n",
    "indices, n_indices"
   ]
  },
  {
   "cell_type": "markdown",
   "id": "ff30a1b6",
   "metadata": {},
   "source": [
    "# MNIST"
   ]
  },
  {
   "cell_type": "code",
   "execution_count": 59,
   "id": "083b4769",
   "metadata": {},
   "outputs": [],
   "source": [
    "from tensorflow.keras.datasets.mnist import load_data"
   ]
  },
  {
   "cell_type": "code",
   "execution_count": 28,
   "id": "0cf351cd",
   "metadata": {},
   "outputs": [
    {
     "data": {
      "text/plain": [
       "(60000, 28, 28)"
      ]
     },
     "execution_count": 28,
     "metadata": {},
     "output_type": "execute_result"
    }
   ],
   "source": [
    "(np_mnist_data, np_mnist_labels), (_, _) = load_data()\n",
    "np_mnist_data.shape"
   ]
  },
  {
   "cell_type": "code",
   "execution_count": null,
   "id": "0559cfab",
   "metadata": {},
   "outputs": [],
   "source": []
  },
  {
   "cell_type": "markdown",
   "id": "708bc87d",
   "metadata": {},
   "source": [
    "# Model"
   ]
  },
  {
   "cell_type": "code",
   "execution_count": 29,
   "id": "1d577c17",
   "metadata": {},
   "outputs": [],
   "source": [
    "from tensorflow import keras"
   ]
  },
  {
   "cell_type": "code",
   "execution_count": 67,
   "id": "f16b9ffc",
   "metadata": {},
   "outputs": [],
   "source": [
    "x_train = x_train/255\n",
    "x_test = x_test/255"
   ]
  },
  {
   "cell_type": "code",
   "execution_count": 117,
   "id": "b5778d4a",
   "metadata": {},
   "outputs": [],
   "source": [
    "model = keras.models.Sequential([\n",
    "#     keras.layers.Flatten(input_shape=(28, 28)),\n",
    "   \n",
    "    keras.layers.Conv2D(16,(3,3),input_shape=(28,28,1)),\n",
    "    keras.layers.MaxPooling2D(3,3),\n",
    "    keras.layers.Conv2D(32,(3,3)),\n",
    "    keras.layers.MaxPooling2D(3,3),\n",
    "#     keras.layers.Conv2D(64,(3,3)),\n",
    "#     keras.layers.MaxPooling2D(3,3),\n",
    "#     keras.layers.Dropout(0.2),\n",
    "#     keras.layers.Dense(500, activation='relu'),\n",
    "#     keras.layers.Dropout(0.2),\n",
    "    keras.layers.Flatten(),\n",
    "#     keras.layers.BatchNormalization(),\n",
    "    keras.layers.Dense(400, activation='relu'),\n",
    "#     keras.layers.Dropout(0.1),\n",
    "    keras.layers.Dense(len(unq_ind),activation='softmax')\n",
    "])"
   ]
  },
  {
   "cell_type": "code",
   "execution_count": 118,
   "id": "d9656911",
   "metadata": {},
   "outputs": [],
   "source": [
    "model.compile(optimizer='adam',\n",
    "#               loss=keras.losses.SparseCategoricalCrossentropy(from_logits=True),\n",
    "              loss=\"sparse_categorical_crossentropy\",\n",
    "              metrics=['accuracy'])"
   ]
  },
  {
   "cell_type": "code",
   "execution_count": 119,
   "id": "719d32e6",
   "metadata": {},
   "outputs": [
    {
     "name": "stdout",
     "output_type": "stream",
     "text": [
      "Epoch 1/10\n",
      "1477/1477 [==============================] - 11s 7ms/step - loss: 1.8221 - accuracy: 0.6645\n",
      "Epoch 2/10\n",
      "1477/1477 [==============================] - 11s 8ms/step - loss: 0.6575 - accuracy: 0.7972\n",
      "Epoch 3/10\n",
      "1477/1477 [==============================] - 11s 8ms/step - loss: 0.5412 - accuracy: 0.8223\n",
      "Epoch 4/10\n",
      "1477/1477 [==============================] - 12s 8ms/step - loss: 0.4847 - accuracy: 0.8350\n",
      "Epoch 5/10\n",
      "1477/1477 [==============================] - 12s 8ms/step - loss: 0.4448 - accuracy: 0.8451\n",
      "Epoch 6/10\n",
      "1477/1477 [==============================] - 12s 8ms/step - loss: 0.4136 - accuracy: 0.8537\n",
      "Epoch 7/10\n",
      "1477/1477 [==============================] - 13s 9ms/step - loss: 0.3865 - accuracy: 0.8608\n",
      "Epoch 8/10\n",
      "1477/1477 [==============================] - 13s 8ms/step - loss: 0.3706 - accuracy: 0.8651\n",
      "Epoch 9/10\n",
      "1477/1477 [==============================] - 12s 8ms/step - loss: 0.3562 - accuracy: 0.8709\n",
      "Epoch 10/10\n",
      "1477/1477 [==============================] - 13s 8ms/step - loss: 0.3451 - accuracy: 0.8734\n"
     ]
    },
    {
     "data": {
      "text/plain": [
       "<keras.callbacks.History at 0x193000820d0>"
      ]
     },
     "execution_count": 119,
     "metadata": {},
     "output_type": "execute_result"
    }
   ],
   "source": [
    "model.fit(x_train, y_train, epochs=10)"
   ]
  },
  {
   "cell_type": "markdown",
   "id": "ce577f57",
   "metadata": {},
   "source": [
    "# Model Test Accuracy"
   ]
  },
  {
   "cell_type": "code",
   "execution_count": 120,
   "id": "129f6624",
   "metadata": {},
   "outputs": [
    {
     "name": "stdout",
     "output_type": "stream",
     "text": [
      "493/493 [==============================] - 2s 4ms/step - loss: 0.5250 - accuracy: 0.8436\n"
     ]
    },
    {
     "data": {
      "text/plain": [
       "84.35992002487183"
      ]
     },
     "execution_count": 120,
     "metadata": {},
     "output_type": "execute_result"
    }
   ],
   "source": [
    "test_loss, test_acc = model.evaluate(x_test, y_test)\n",
    "test_acc * 100"
   ]
  },
  {
   "cell_type": "code",
   "execution_count": 121,
   "id": "c59bd795",
   "metadata": {},
   "outputs": [],
   "source": [
    "imgs = []\n",
    "for path in glob.glob(\"./datasets/*.jpg\"):\n",
    "    img = cv2.imread(path)\n",
    "    gryImg = cv2.cvtColor(img, cv2.COLOR_BGR2GRAY)\n",
    "    resImg = cv2.resize(gryImg, (28,28))\n",
    "    imgs.append(resImg)\n",
    "\n",
    "npImgs = np.array(imgs)"
   ]
  },
  {
   "cell_type": "code",
   "execution_count": 95,
   "id": "2b821cc1",
   "metadata": {},
   "outputs": [],
   "source": [
    "predictions = np.argmax(model.predict(npImgs),axis=1)\n"
   ]
  },
  {
   "cell_type": "code",
   "execution_count": 96,
   "id": "6da74d6e",
   "metadata": {},
   "outputs": [
    {
     "data": {
      "image/png": "[encoded data removed]",
      "text/plain": [
       "<Figure size 288x288 with 1 Axes>"
      ]
     },
     "metadata": {
      "needs_background": "light"
     },
     "output_type": "display_data"
    },
    {
     "data": {
      "image/png": "[encoded data removed]",
      "text/plain": [
       "<Figure size 288x288 with 1 Axes>"
      ]
     },
     "metadata": {
      "needs_background": "light"
     },
     "output_type": "display_data"
    },
    {
     "data": {
      "image/png": "[encoded data removed]",
      "text/plain": [
       "<Figure size 288x288 with 1 Axes>"
      ]
     },
     "metadata": {
      "needs_background": "light"
     },
     "output_type": "display_data"
    },
    {
     "data": {
      "image/png": "[encoded data removed]",
      "text/plain": [
       "<Figure size 288x288 with 1 Axes>"
      ]
     },
     "metadata": {
      "needs_background": "light"
     },
     "output_type": "display_data"
    },
    {
     "data": {
      "image/png": "[encoded data removed]",
      "text/plain": [
       "<Figure size 288x288 with 1 Axes>"
      ]
     },
     "metadata": {
      "needs_background": "light"
     },
     "output_type": "display_data"
    },
    {
     "data": {
      "image/png": "[encoded data removed]",
      "text/plain": [
       "<Figure size 288x288 with 1 Axes>"
      ]
     },
     "metadata": {
      "needs_background": "light"
     },
     "output_type": "display_data"
    },
    {
     "data": {
      "image/png": "[encoded data removed]",
      "text/plain": [
       "<Figure size 288x288 with 1 Axes>"
      ]
     },
     "metadata": {
      "needs_background": "light"
     },
     "output_type": "display_data"
    },
    {
     "data": {
      "image/png": "[encoded data removed]",
      "text/plain": [
       "<Figure size 288x288 with 1 Axes>"
      ]
     },
     "metadata": {
      "needs_background": "light"
     },
     "output_type": "display_data"
    },
    {
     "data": {
      "image/png": "[encoded data removed]",
      "text/plain": [
       "<Figure size 288x288 with 1 Axes>"
      ]
     },
     "metadata": {
      "needs_background": "light"
     },
     "output_type": "display_data"
    },
    {
     "data": {
      "image/png": "[encoded data removed]",
      "text/plain": [
       "<Figure size 288x288 with 1 Axes>"
      ]
     },
     "metadata": {
      "needs_background": "light"
     },
     "output_type": "display_data"
    },
    {
     "data": {
      "image/png": "[encoded data removed]",
      "text/plain": [
       "<Figure size 288x288 with 1 Axes>"
      ]
     },
     "metadata": {
      "needs_background": "light"
     },
     "output_type": "display_data"
    },
    {
     "data": {
      "image/png": "[encoded data removed]",
      "text/plain": [
       "<Figure size 288x288 with 1 Axes>"
      ]
     },
     "metadata": {
      "needs_background": "light"
     },
     "output_type": "display_data"
    },
    {
     "data": {
      "image/png": "[encoded data removed]",
      "text/plain": [
       "<Figure size 288x288 with 1 Axes>"
      ]
     },
     "metadata": {
      "needs_background": "light"
     },
     "output_type": "display_data"
    },
    {
     "data": {
      "image/png": "[encoded data removed]",
      "text/plain": [
       "<Figure size 288x288 with 1 Axes>"
      ]
     },
     "metadata": {
      "needs_background": "light"
     },
     "output_type": "display_data"
    }
   ],
   "source": [
    "for i in range(npImgs.shape[0]):\n",
    "\n",
    "    plt.matshow(npImgs[i])\n",
    "    plt.xlabel(predictions[i])"
   ]
  },
  {
   "cell_type": "code",
   "execution_count": 25,
   "id": "7fd0d633",
   "metadata": {},
   "outputs": [
    {
     "name": "stdout",
     "output_type": "stream",
     "text": [
      "(28, 28)\n"
     ]
    },
    {
     "data": {
      "text/plain": [
       "<matplotlib.image.AxesImage at 0x7fdcbc099f10>"
      ]
     },
     "execution_count": 25,
     "metadata": {},
     "output_type": "execute_result"
    },
    {
     "data": {
      "image/png": "[encoded data removed]",
      "text/plain": [
       "<Figure size 432x288 with 1 Axes>"
      ]
     },
     "metadata": {
      "needs_background": "light"
     },
     "output_type": "display_data"
    }
   ],
   "source": [
    "test_image = cv2.cvtColor(cv2.imread('./one.png'), cv2.COLOR_BGR2GRAY)\n",
    "test_image = cv2.resize(test_image, (28,28))\n",
    "print(test_image.shape)\n",
    "plt.imshow(test_image, cmap='gray')"
   ]
  },
  {
   "cell_type": "code",
   "execution_count": 26,
   "id": "1f650176",
   "metadata": {},
   "outputs": [
    {
     "data": {
      "text/plain": [
       "(1, 28, 28)"
      ]
     },
     "execution_count": 26,
     "metadata": {},
     "output_type": "execute_result"
    }
   ],
   "source": [
    "images = np.array([test_image])\n",
    "images.shape"
   ]
  },
  {
   "cell_type": "code",
   "execution_count": 27,
   "id": "cc4f214b",
   "metadata": {},
   "outputs": [],
   "source": [
    "predictions = prob_model.predict(images)\n",
    "pred_test = np.argmax(predictions, axis=1)"
   ]
  },
  {
   "cell_type": "code",
   "execution_count": 28,
   "id": "0c04302f",
   "metadata": {},
   "outputs": [
    {
     "data": {
      "text/plain": [
       "array([24])"
      ]
     },
     "execution_count": 28,
     "metadata": {},
     "output_type": "execute_result"
    }
   ],
   "source": [
    "pred_test"
   ]
  },
  {
   "cell_type": "markdown",
   "id": "aa0a5bfa",
   "metadata": {},
   "source": [
    "# Actual Test Accuracy"
   ]
  },
  {
   "cell_type": "code",
   "execution_count": 250,
   "id": "53870ecd",
   "metadata": {},
   "outputs": [
    {
     "data": {
      "text/plain": [
       "array([   0,    1,    2, ..., 9957, 9958, 9960])"
      ]
     },
     "execution_count": 250,
     "metadata": {},
     "output_type": "execute_result"
    }
   ],
   "source": [
    "(fail_cases,) = np.nonzero(pred_test != y_test)\n",
    "fail_cases"
   ]
  },
  {
   "cell_type": "code",
   "execution_count": 251,
   "id": "93865b25",
   "metadata": {},
   "outputs": [
    {
     "data": {
      "text/plain": [
       "(14, 57)"
      ]
     },
     "execution_count": 251,
     "metadata": {},
     "output_type": "execute_result"
    },
    {
     "data": {
      "image/png": "[encoded data removed]",
      "text/plain": [
       "<Figure size 432x288 with 1 Axes>"
      ]
     },
     "metadata": {
      "needs_background": "light"
     },
     "output_type": "display_data"
    }
   ],
   "source": [
    "plt.imshow(x_test[fail_cases[0]])\n",
    "y_test[fail_cases[0]], pred_test[fail_cases[0]]"
   ]
  },
  {
   "cell_type": "code",
   "execution_count": 252,
   "id": "be25e969",
   "metadata": {},
   "outputs": [
    {
     "ename": "IndexError",
     "evalue": "index 1 is out of bounds for axis 0 with size 1",
     "output_type": "error",
     "traceback": [
      "\u001b[0;31m---------------------------------------------------------------------------\u001b[0m",
      "\u001b[0;31mIndexError\u001b[0m                                Traceback (most recent call last)",
      "\u001b[0;32m<ipython-input-252-25c330e3fc73>\u001b[0m in \u001b[0;36m<module>\u001b[0;34m\u001b[0m\n\u001b[1;32m      2\u001b[0m \u001b[0mfalse_count\u001b[0m \u001b[0;34m=\u001b[0m \u001b[0;36m0\u001b[0m\u001b[0;34m\u001b[0m\u001b[0;34m\u001b[0m\u001b[0m\n\u001b[1;32m      3\u001b[0m \u001b[0;32mfor\u001b[0m \u001b[0mi\u001b[0m \u001b[0;32min\u001b[0m \u001b[0mfail_cases\u001b[0m\u001b[0;34m:\u001b[0m\u001b[0;34m\u001b[0m\u001b[0;34m\u001b[0m\u001b[0m\n\u001b[0;32m----> 4\u001b[0;31m     \u001b[0;32mif\u001b[0m\u001b[0;34m(\u001b[0m\u001b[0my_test\u001b[0m\u001b[0;34m[\u001b[0m\u001b[0mi\u001b[0m\u001b[0;34m]\u001b[0m \u001b[0;34m>\u001b[0m \u001b[0;36m9\u001b[0m \u001b[0;32mand\u001b[0m \u001b[0mabs\u001b[0m\u001b[0;34m(\u001b[0m\u001b[0my_test\u001b[0m\u001b[0;34m[\u001b[0m\u001b[0mi\u001b[0m\u001b[0;34m]\u001b[0m\u001b[0;34m-\u001b[0m\u001b[0mpred_test\u001b[0m\u001b[0;34m[\u001b[0m\u001b[0mi\u001b[0m\u001b[0;34m]\u001b[0m\u001b[0;34m)\u001b[0m \u001b[0;34m!=\u001b[0m \u001b[0;36m26\u001b[0m\u001b[0;34m)\u001b[0m\u001b[0;34m:\u001b[0m\u001b[0;34m\u001b[0m\u001b[0;34m\u001b[0m\u001b[0m\n\u001b[0m\u001b[1;32m      5\u001b[0m         \u001b[0mfalse_count\u001b[0m \u001b[0;34m+=\u001b[0m \u001b[0;36m1\u001b[0m\u001b[0;34m\u001b[0m\u001b[0;34m\u001b[0m\u001b[0m\n\u001b[1;32m      6\u001b[0m \u001b[0;34m(\u001b[0m\u001b[0mlen\u001b[0m\u001b[0;34m(\u001b[0m\u001b[0mpred_test\u001b[0m\u001b[0;34m)\u001b[0m\u001b[0;34m-\u001b[0m\u001b[0mfalse_count\u001b[0m\u001b[0;34m)\u001b[0m\u001b[0;34m*\u001b[0m\u001b[0;36m100\u001b[0m \u001b[0;34m/\u001b[0m \u001b[0mlen\u001b[0m\u001b[0;34m(\u001b[0m\u001b[0mpred_test\u001b[0m\u001b[0;34m)\u001b[0m\u001b[0;34m\u001b[0m\u001b[0;34m\u001b[0m\u001b[0m\n",
      "\u001b[0;31mIndexError\u001b[0m: index 1 is out of bounds for axis 0 with size 1"
     ]
    }
   ],
   "source": [
    "# Actual False counts where the predicted character is not the capital/small-case variant of the labelled character\n",
    "false_count = 0\n",
    "for i in fail_cases:\n",
    "    if(y_test[i] > 9 and abs(y_test[i]-pred_test[i]) != 26):\n",
    "        false_count += 1\n",
    "(len(pred_test)-false_count)*100 / len(pred_test)"
   ]
  },
  {
   "cell_type": "code",
   "execution_count": 357,
   "id": "ae8e7c5a",
   "metadata": {},
   "outputs": [
    {
     "name": "stdout",
     "output_type": "stream",
     "text": [
      "INFO:tensorflow:Assets written to: ./models/character-recognition/assets\n"
     ]
    }
   ],
   "source": [
    "prob_model.save('./models/character-recognition')"
   ]
  }
 ],
 "metadata": {
  "kernelspec": {
   "display_name": "Python 3 (ipykernel)",
   "language": "python",
   "name": "python3"
  },
  "language_info": {
   "codemirror_mode": {
    "name": "ipython",
    "version": 3
   },
   "file_extension": ".py",
   "mimetype": "text/x-python",
   "name": "python",
   "nbconvert_exporter": "python",
   "pygments_lexer": "ipython3",
   "version": "3.9.7"
  }
 },
 "nbformat": 4,
 "nbformat_minor": 5
}
