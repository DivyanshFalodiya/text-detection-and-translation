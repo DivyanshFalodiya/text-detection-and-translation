{
 "cells": [
  {
   "cell_type": "code",
   "execution_count": 2,
   "id": "792602cc",
   "metadata": {},
   "outputs": [],
   "source": [
    "import numpy as np\n",
    "import pandas as pd\n",
    "import glob\n",
    "import cv2\n",
    "import matplotlib.pyplot as plt"
   ]
  },
  {
   "cell_type": "markdown",
   "id": "4957c19b",
   "metadata": {},
   "source": [
    "# Load Font Data\n",
    "https://archive.ics.uci.edu/ml/datasets/Character+Font+Images#"
   ]
  },
  {
   "cell_type": "code",
   "execution_count": 3,
   "id": "dbf3933c",
   "metadata": {},
   "outputs": [
    {
     "data": {
      "text/plain": [
       "153"
      ]
     },
     "execution_count": 3,
     "metadata": {},
     "output_type": "execute_result"
    }
   ],
   "source": [
    "font_paths = glob.glob('./datasets/fonts/*.csv')\n",
    "len(font_paths)"
   ]
  },
  {
   "cell_type": "code",
   "execution_count": 4,
   "id": "80ae23a3",
   "metadata": {},
   "outputs": [],
   "source": [
    "df_main = pd.concat(map(pd.read_csv, font_paths))"
   ]
  },
  {
   "cell_type": "code",
   "execution_count": 44,
   "id": "638f7932",
   "metadata": {},
   "outputs": [
    {
     "data": {
      "text/plain": [
       "(331390, 412)"
      ]
     },
     "execution_count": 44,
     "metadata": {},
     "output_type": "execute_result"
    }
   ],
   "source": [
    "df_labelled = df_main[df_main['m_label'].between(65,90, inclusive=True)]\n",
    "df_labelled = df_labelled.append(df_main[df_main['m_label'].between(97,122, inclusive=True)], ignore_index=True)\n",
    "df_labelled = df_labelled.append(df_main[df_main['m_label'].between(48,57, inclusive=True)], ignore_index=True)\n",
    "df_labelled.shape"
   ]
  },
  {
   "cell_type": "code",
   "execution_count": 45,
   "id": "9d3210fd",
   "metadata": {},
   "outputs": [
    {
     "data": {
      "text/html": [
       "<div>\n",
       "<style scoped>\n",
       "    .dataframe tbody tr th:only-of-type {\n",
       "        vertical-align: middle;\n",
       "    }\n",
       "\n",
       "    .dataframe tbody tr th {\n",
       "        vertical-align: top;\n",
       "    }\n",
       "\n",
       "    .dataframe thead th {\n",
       "        text-align: right;\n",
       "    }\n",
       "</style>\n",
       "<table border=\"1\" class=\"dataframe\">\n",
       "  <thead>\n",
       "    <tr style=\"text-align: right;\">\n",
       "      <th></th>\n",
       "      <th>font</th>\n",
       "      <th>fontVariant</th>\n",
       "      <th>m_label</th>\n",
       "      <th>strength</th>\n",
       "      <th>italic</th>\n",
       "      <th>orientation</th>\n",
       "      <th>m_top</th>\n",
       "      <th>m_left</th>\n",
       "      <th>originalH</th>\n",
       "      <th>originalW</th>\n",
       "      <th>...</th>\n",
       "      <th>r19c10</th>\n",
       "      <th>r19c11</th>\n",
       "      <th>r19c12</th>\n",
       "      <th>r19c13</th>\n",
       "      <th>r19c14</th>\n",
       "      <th>r19c15</th>\n",
       "      <th>r19c16</th>\n",
       "      <th>r19c17</th>\n",
       "      <th>r19c18</th>\n",
       "      <th>r19c19</th>\n",
       "    </tr>\n",
       "  </thead>\n",
       "  <tbody>\n",
       "    <tr>\n",
       "      <th>0</th>\n",
       "      <td>CURLZ</td>\n",
       "      <td>CURLZ MT</td>\n",
       "      <td>90</td>\n",
       "      <td>0.4</td>\n",
       "      <td>0</td>\n",
       "      <td>0.0</td>\n",
       "      <td>43</td>\n",
       "      <td>22</td>\n",
       "      <td>46</td>\n",
       "      <td>33</td>\n",
       "      <td>...</td>\n",
       "      <td>255</td>\n",
       "      <td>255</td>\n",
       "      <td>255</td>\n",
       "      <td>255</td>\n",
       "      <td>255</td>\n",
       "      <td>161</td>\n",
       "      <td>73</td>\n",
       "      <td>1</td>\n",
       "      <td>1</td>\n",
       "      <td>1</td>\n",
       "    </tr>\n",
       "    <tr>\n",
       "      <th>1</th>\n",
       "      <td>CURLZ</td>\n",
       "      <td>CURLZ MT</td>\n",
       "      <td>89</td>\n",
       "      <td>0.4</td>\n",
       "      <td>0</td>\n",
       "      <td>0.0</td>\n",
       "      <td>43</td>\n",
       "      <td>22</td>\n",
       "      <td>49</td>\n",
       "      <td>49</td>\n",
       "      <td>...</td>\n",
       "      <td>1</td>\n",
       "      <td>1</td>\n",
       "      <td>1</td>\n",
       "      <td>1</td>\n",
       "      <td>1</td>\n",
       "      <td>1</td>\n",
       "      <td>1</td>\n",
       "      <td>1</td>\n",
       "      <td>1</td>\n",
       "      <td>1</td>\n",
       "    </tr>\n",
       "    <tr>\n",
       "      <th>2</th>\n",
       "      <td>CURLZ</td>\n",
       "      <td>CURLZ MT</td>\n",
       "      <td>88</td>\n",
       "      <td>0.4</td>\n",
       "      <td>0</td>\n",
       "      <td>0.0</td>\n",
       "      <td>42</td>\n",
       "      <td>20</td>\n",
       "      <td>50</td>\n",
       "      <td>42</td>\n",
       "      <td>...</td>\n",
       "      <td>1</td>\n",
       "      <td>10</td>\n",
       "      <td>151</td>\n",
       "      <td>93</td>\n",
       "      <td>52</td>\n",
       "      <td>13</td>\n",
       "      <td>1</td>\n",
       "      <td>1</td>\n",
       "      <td>1</td>\n",
       "      <td>1</td>\n",
       "    </tr>\n",
       "    <tr>\n",
       "      <th>3</th>\n",
       "      <td>CURLZ</td>\n",
       "      <td>CURLZ MT</td>\n",
       "      <td>87</td>\n",
       "      <td>0.4</td>\n",
       "      <td>0</td>\n",
       "      <td>0.0</td>\n",
       "      <td>44</td>\n",
       "      <td>18</td>\n",
       "      <td>47</td>\n",
       "      <td>60</td>\n",
       "      <td>...</td>\n",
       "      <td>1</td>\n",
       "      <td>1</td>\n",
       "      <td>1</td>\n",
       "      <td>1</td>\n",
       "      <td>134</td>\n",
       "      <td>13</td>\n",
       "      <td>1</td>\n",
       "      <td>1</td>\n",
       "      <td>1</td>\n",
       "      <td>1</td>\n",
       "    </tr>\n",
       "    <tr>\n",
       "      <th>4</th>\n",
       "      <td>CURLZ</td>\n",
       "      <td>CURLZ MT</td>\n",
       "      <td>86</td>\n",
       "      <td>0.4</td>\n",
       "      <td>0</td>\n",
       "      <td>0.0</td>\n",
       "      <td>45</td>\n",
       "      <td>17</td>\n",
       "      <td>45</td>\n",
       "      <td>48</td>\n",
       "      <td>...</td>\n",
       "      <td>1</td>\n",
       "      <td>1</td>\n",
       "      <td>1</td>\n",
       "      <td>1</td>\n",
       "      <td>1</td>\n",
       "      <td>1</td>\n",
       "      <td>1</td>\n",
       "      <td>1</td>\n",
       "      <td>1</td>\n",
       "      <td>1</td>\n",
       "    </tr>\n",
       "  </tbody>\n",
       "</table>\n",
       "<p>5 rows × 412 columns</p>\n",
       "</div>"
      ],
      "text/plain": [
       "    font fontVariant  m_label  strength  italic  orientation  m_top  m_left  \\\n",
       "0  CURLZ    CURLZ MT       90       0.4       0          0.0     43      22   \n",
       "1  CURLZ    CURLZ MT       89       0.4       0          0.0     43      22   \n",
       "2  CURLZ    CURLZ MT       88       0.4       0          0.0     42      20   \n",
       "3  CURLZ    CURLZ MT       87       0.4       0          0.0     44      18   \n",
       "4  CURLZ    CURLZ MT       86       0.4       0          0.0     45      17   \n",
       "\n",
       "   originalH  originalW  ...  r19c10  r19c11  r19c12  r19c13  r19c14  r19c15  \\\n",
       "0         46         33  ...     255     255     255     255     255     161   \n",
       "1         49         49  ...       1       1       1       1       1       1   \n",
       "2         50         42  ...       1      10     151      93      52      13   \n",
       "3         47         60  ...       1       1       1       1     134      13   \n",
       "4         45         48  ...       1       1       1       1       1       1   \n",
       "\n",
       "   r19c16  r19c17  r19c18  r19c19  \n",
       "0      73       1       1       1  \n",
       "1       1       1       1       1  \n",
       "2       1       1       1       1  \n",
       "3       1       1       1       1  \n",
       "4       1       1       1       1  \n",
       "\n",
       "[5 rows x 412 columns]"
      ]
     },
     "execution_count": 45,
     "metadata": {},
     "output_type": "execute_result"
    }
   ],
   "source": [
    "df_labelled.head()"
   ]
  },
  {
   "cell_type": "code",
   "execution_count": 46,
   "id": "6db49977",
   "metadata": {},
   "outputs": [
    {
     "data": {
      "text/plain": [
       "(1, 20, 20)"
      ]
     },
     "execution_count": 46,
     "metadata": {},
     "output_type": "execute_result"
    }
   ],
   "source": [
    "sample = np.reshape(np.array(df_labelled.iloc[1, -400:], dtype=np.float64), (1,20,20)) / 255\n",
    "sample.shape"
   ]
  },
  {
   "cell_type": "code",
   "execution_count": 47,
   "id": "4cef282b",
   "metadata": {},
   "outputs": [
    {
     "data": {
      "text/plain": [
       "<matplotlib.image.AxesImage at 0x7f1f2fb6b2b0>"
      ]
     },
     "execution_count": 47,
     "metadata": {},
     "output_type": "execute_result"
    },
    {
     "data": {
      "image/png": "[encoded data removed]",
      "text/plain": [
       "<Figure size 432x288 with 1 Axes>"
      ]
     },
     "metadata": {
      "needs_background": "light"
     },
     "output_type": "display_data"
    }
   ],
   "source": [
    "plt.imshow(sample[0], cmap='gray')"
   ]
  },
  {
   "cell_type": "markdown",
   "id": "3d381947",
   "metadata": {},
   "source": [
    "# Convert Dataframe to Data"
   ]
  },
  {
   "cell_type": "code",
   "execution_count": 48,
   "id": "9baa1e0f",
   "metadata": {},
   "outputs": [],
   "source": [
    "X, Y = np.array(df_labelled.iloc[:, -400:], dtype=np.float64), np.array(df_labelled.loc[:, 'm_label'], dtype=np.int64)"
   ]
  },
  {
   "cell_type": "code",
   "execution_count": 49,
   "id": "39e2b135",
   "metadata": {},
   "outputs": [
    {
     "data": {
      "text/plain": [
       "((331390, 400), (331390,))"
      ]
     },
     "execution_count": 49,
     "metadata": {},
     "output_type": "execute_result"
    }
   ],
   "source": [
    "X.shape, Y.shape"
   ]
  },
  {
   "cell_type": "code",
   "execution_count": 51,
   "id": "64a64213",
   "metadata": {},
   "outputs": [],
   "source": [
    "Y[Y<58] -= 48\n",
    "Y[Y>96] -= 61\n",
    "Y[Y>64] -= 55"
   ]
  },
  {
   "cell_type": "code",
   "execution_count": 59,
   "id": "11c4eed0",
   "metadata": {},
   "outputs": [
    {
     "data": {
      "text/plain": [
       "array([ 0,  1,  2,  3,  4,  5,  6,  7,  8,  9, 10, 11, 12, 13, 14, 15, 16,\n",
       "       17, 18, 19, 20, 21, 22, 23, 24, 25, 26, 27, 28, 29, 30, 31, 32, 33,\n",
       "       34, 35, 36, 37, 38, 39, 40, 41, 42, 43, 44, 45, 46, 47, 48, 49, 50,\n",
       "       51, 52, 53, 54, 55, 56, 57, 58, 59, 60, 61])"
      ]
     },
     "execution_count": 59,
     "metadata": {},
     "output_type": "execute_result"
    }
   ],
   "source": [
    "unq_labels = np.unique(Y)\n",
    "unq_labels"
   ]
  },
  {
   "cell_type": "markdown",
   "id": "83108460",
   "metadata": {},
   "source": [
    "# Split Data"
   ]
  },
  {
   "cell_type": "code",
   "execution_count": 53,
   "id": "232e64de",
   "metadata": {},
   "outputs": [],
   "source": [
    "from sklearn.model_selection import train_test_split"
   ]
  },
  {
   "cell_type": "code",
   "execution_count": 54,
   "id": "62f3a73b",
   "metadata": {},
   "outputs": [],
   "source": [
    "x_train, x_test, y_train, y_test = train_test_split(X, Y)"
   ]
  },
  {
   "cell_type": "code",
   "execution_count": 55,
   "id": "fa060b0e",
   "metadata": {},
   "outputs": [
    {
     "data": {
      "text/plain": [
       "((248542, 400), (82848, 400))"
      ]
     },
     "execution_count": 55,
     "metadata": {},
     "output_type": "execute_result"
    }
   ],
   "source": [
    "x_train.shape, x_test.shape"
   ]
  },
  {
   "cell_type": "markdown",
   "id": "5a5f9021",
   "metadata": {},
   "source": [
    "# Model"
   ]
  },
  {
   "cell_type": "code",
   "execution_count": 56,
   "id": "3a91f8b9",
   "metadata": {},
   "outputs": [],
   "source": [
    "from tensorflow import keras"
   ]
  },
  {
   "cell_type": "code",
   "execution_count": 63,
   "id": "09b2da67",
   "metadata": {},
   "outputs": [],
   "source": [
    "model = keras.models.Sequential([\n",
    "    keras.layers.Input(shape=(400)),\n",
    "    keras.layers.BatchNormalization(),\n",
    "    keras.layers.Dense(250, activation='relu'),\n",
    "    keras.layers.Dropout(0.2),\n",
    "    keras.layers.Dense(len(unq_labels))\n",
    "])"
   ]
  },
  {
   "cell_type": "code",
   "execution_count": 64,
   "id": "a25972a1",
   "metadata": {},
   "outputs": [],
   "source": [
    "model.compile(optimizer='adam',\n",
    "              loss=keras.losses.SparseCategoricalCrossentropy(from_logits=True),\n",
    "              metrics=['accuracy'])"
   ]
  },
  {
   "cell_type": "code",
   "execution_count": 65,
   "id": "d9d5d450",
   "metadata": {},
   "outputs": [
    {
     "name": "stdout",
     "output_type": "stream",
     "text": [
      "Epoch 1/5\n",
      "7767/7767 [==============================] - 63s 8ms/step - loss: 0.7356 - accuracy: 0.8126\n",
      "Epoch 2/5\n",
      "7767/7767 [==============================] - 75s 10ms/step - loss: 0.3651 - accuracy: 0.8965\n",
      "Epoch 3/5\n",
      "7767/7767 [==============================] - 74s 10ms/step - loss: 0.3137 - accuracy: 0.9089\n",
      "Epoch 4/5\n",
      "7767/7767 [==============================] - 76s 10ms/step - loss: 0.2872 - accuracy: 0.9138\n",
      "Epoch 5/5\n",
      "7767/7767 [==============================] - 76s 10ms/step - loss: 0.2707 - accuracy: 0.9183\n"
     ]
    },
    {
     "data": {
      "text/plain": [
       "<tensorflow.python.keras.callbacks.History at 0x7f1f0c15bd60>"
      ]
     },
     "execution_count": 65,
     "metadata": {},
     "output_type": "execute_result"
    }
   ],
   "source": [
    "model.fit(x_train, y_train, epochs=5)"
   ]
  },
  {
   "cell_type": "code",
   "execution_count": 66,
   "id": "7ffdc3dc",
   "metadata": {},
   "outputs": [
    {
     "name": "stdout",
     "output_type": "stream",
     "text": [
      "2589/2589 [==============================] - 6s 2ms/step - loss: 0.2113 - accuracy: 0.9373\n"
     ]
    },
    {
     "data": {
      "text/plain": [
       "[0.21133650839328766, 0.9373310208320618]"
      ]
     },
     "execution_count": 66,
     "metadata": {},
     "output_type": "execute_result"
    }
   ],
   "source": [
    "model.evaluate(x_test, y_test)"
   ]
  },
  {
   "cell_type": "code",
   "execution_count": 69,
   "id": "36ac9116",
   "metadata": {},
   "outputs": [],
   "source": [
    "prob_model = keras.Sequential([model, keras.layers.Softmax()])"
   ]
  },
  {
   "cell_type": "markdown",
   "id": "d1a0ab14",
   "metadata": {},
   "source": [
    "# Test Other Images"
   ]
  },
  {
   "cell_type": "code",
   "execution_count": 98,
   "id": "5d49c180",
   "metadata": {},
   "outputs": [
    {
     "name": "stdout",
     "output_type": "stream",
     "text": [
      "(20, 20)\n"
     ]
    },
    {
     "data": {
      "text/plain": [
       "<matplotlib.image.AxesImage at 0x7f1ef9f969d0>"
      ]
     },
     "execution_count": 98,
     "metadata": {},
     "output_type": "execute_result"
    },
    {
     "data": {
      "image/png": "[encoded data removed]",
      "text/plain": [
       "<Figure size 432x288 with 1 Axes>"
      ]
     },
     "metadata": {
      "needs_background": "light"
     },
     "output_type": "display_data"
    }
   ],
   "source": [
    "image = cv2.imread('./h.png')\n",
    "image = cv2.cvtColor(image, cv2.COLOR_BGR2GRAY)\n",
    "_, image = cv2.threshold(image ,0 ,255,cv2.THRESH_BINARY_INV+cv2.THRESH_OTSU)\n",
    "image = cv2.resize(image, (20,20))\n",
    "print(image.shape)\n",
    "plt.imshow(image, cmap='gray')"
   ]
  },
  {
   "cell_type": "code",
   "execution_count": 100,
   "id": "daabc459",
   "metadata": {},
   "outputs": [
    {
     "data": {
      "text/plain": [
       "(400,)"
      ]
     },
     "execution_count": 100,
     "metadata": {},
     "output_type": "execute_result"
    }
   ],
   "source": [
    "image = image.flatten()\n",
    "image.shape"
   ]
  },
  {
   "cell_type": "code",
   "execution_count": 101,
   "id": "faa43b34",
   "metadata": {},
   "outputs": [
    {
     "data": {
      "text/plain": [
       "17"
      ]
     },
     "execution_count": 101,
     "metadata": {},
     "output_type": "execute_result"
    }
   ],
   "source": [
    "images = np.array([image])\n",
    "predictions = np.argmax(model.predict(images))\n",
    "predictions"
   ]
  },
  {
   "cell_type": "code",
   "execution_count": null,
   "id": "4429608a",
   "metadata": {},
   "outputs": [],
   "source": []
  }
 ],
 "metadata": {
  "kernelspec": {
   "display_name": "Python 3.8.8 ('base')",
   "language": "python",
   "name": "python388jvsc74a57bd056fbd1050eabf44cc0602c76899189118919dff9924cabca39f8975a99ce4c85"
  },
  "language_info": {
   "codemirror_mode": {
    "name": "ipython",
    "version": 3
   },
   "file_extension": ".py",
   "mimetype": "text/x-python",
   "name": "python",
   "nbconvert_exporter": "python",
   "pygments_lexer": "ipython3",
   "version": "3.8.8"
  }
 },
 "nbformat": 4,
 "nbformat_minor": 5
}
