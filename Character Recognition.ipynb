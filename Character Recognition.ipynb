{
 "cells": [
  {
   "cell_type": "code",
   "execution_count": 1,
   "id": "a6ac34f1",
   "metadata": {},
   "outputs": [],
   "source": [
    "import numpy as np\n",
    "import pandas as pd\n",
    "import glob\n",
    "import matplotlib.pyplot as plt\n",
    "import PIL"
   ]
  },
  {
   "cell_type": "markdown",
   "id": "3dd996c3",
   "metadata": {},
   "source": [
    "# Font Based Data"
   ]
  },
  {
   "cell_type": "code",
   "execution_count": 3,
   "id": "21980063",
   "metadata": {},
   "outputs": [
    {
     "data": {
      "text/plain": [
       "62"
      ]
     },
     "execution_count": 3,
     "metadata": {},
     "output_type": "execute_result"
    }
   ],
   "source": [
    "fnt_directories = glob.glob('./datasets/Characters/Fnt/*/')\n",
    "len(fnt_directories)"
   ]
  },
  {
   "cell_type": "code",
   "execution_count": 4,
   "id": "85bfcfc1",
   "metadata": {},
   "outputs": [],
   "source": [
    "fnt_data = []\n",
    "fnt_labels = []\n",
    "for folder in fnt_directories:\n",
    "    label = int((folder[-4:])[:3])\n",
    "    for file in glob.glob(folder+'/*'):\n",
    "        image = PIL.Image.open(file).convert('L')\n",
    "        image = image.resize((28,28))\n",
    "        image_arr = np.array(image)\n",
    "        fnt_data.append(image_arr)\n",
    "        fnt_labels.append(label)"
   ]
  },
  {
   "cell_type": "code",
   "execution_count": 5,
   "id": "1a1c20fa",
   "metadata": {},
   "outputs": [],
   "source": [
    "np_fnt_data = np.array(fnt_data)\n",
    "np_fnt_labels = np.array(fnt_labels)"
   ]
  },
  {
   "cell_type": "code",
   "execution_count": 6,
   "id": "509bf8e5",
   "metadata": {},
   "outputs": [
    {
     "data": {
      "text/plain": [
       "((62992, 28, 28), (62992,))"
      ]
     },
     "execution_count": 6,
     "metadata": {},
     "output_type": "execute_result"
    }
   ],
   "source": [
    "np_fnt_data.shape, np_fnt_labels.shape"
   ]
  },
  {
   "cell_type": "code",
   "execution_count": 14,
   "id": "84b512c1",
   "metadata": {},
   "outputs": [
    {
     "data": {
      "text/plain": [
       "<matplotlib.image.AxesImage at 0x7efd4ecd7a90>"
      ]
     },
     "execution_count": 14,
     "metadata": {},
     "output_type": "execute_result"
    },
    {
     "data": {
      "image/png": "[encoded data removed]",
      "text/plain": [
       "<Figure size 288x288 with 1 Axes>"
      ]
     },
     "metadata": {
      "needs_background": "light"
     },
     "output_type": "display_data"
    }
   ],
   "source": [
    "plt.matshow(np_fnt_data[1])"
   ]
  },
  {
   "cell_type": "markdown",
   "id": "fa0c967a",
   "metadata": {},
   "source": [
    "# Handwritten Data"
   ]
  },
  {
   "cell_type": "code",
   "execution_count": 7,
   "id": "84927a57",
   "metadata": {},
   "outputs": [
    {
     "data": {
      "text/plain": [
       "62"
      ]
     },
     "execution_count": 7,
     "metadata": {},
     "output_type": "execute_result"
    }
   ],
   "source": [
    "hnd_directories = glob.glob('./datasets/Characters/Img/*/')\n",
    "len(hnd_directories)"
   ]
  },
  {
   "cell_type": "code",
   "execution_count": 8,
   "id": "2024d864",
   "metadata": {},
   "outputs": [],
   "source": [
    "hnd_data = []\n",
    "hnd_labels = []\n",
    "for folder in hnd_directories:\n",
    "    label = int((folder[-4:])[:3])\n",
    "    for file in glob.glob(folder+'/*'):\n",
    "        image = PIL.Image.open(file).convert('L')\n",
    "        image = image.resize((28,28))\n",
    "        image_arr = np.array(image)\n",
    "        hnd_data.append(image_arr)\n",
    "        hnd_labels.append(label)"
   ]
  },
  {
   "cell_type": "code",
   "execution_count": 9,
   "id": "d55ccecb",
   "metadata": {},
   "outputs": [],
   "source": [
    "np_hnd_data = np.array(hnd_data)\n",
    "np_hnd_labels = np.array(hnd_labels)"
   ]
  },
  {
   "cell_type": "code",
   "execution_count": 10,
   "id": "ba2d7476",
   "metadata": {},
   "outputs": [
    {
     "data": {
      "text/plain": [
       "((3410, 28, 28), (3410,))"
      ]
     },
     "execution_count": 10,
     "metadata": {},
     "output_type": "execute_result"
    }
   ],
   "source": [
    "np_hnd_data.shape, np_hnd_labels.shape"
   ]
  },
  {
   "cell_type": "code",
   "execution_count": 16,
   "id": "2a5fe269",
   "metadata": {},
   "outputs": [
    {
     "data": {
      "text/plain": [
       "<matplotlib.image.AxesImage at 0x7efd4e33bb20>"
      ]
     },
     "execution_count": 16,
     "metadata": {},
     "output_type": "execute_result"
    },
    {
     "data": {
      "image/png": "[encoded data removed]",
      "text/plain": [
       "<Figure size 288x288 with 1 Axes>"
      ]
     },
     "metadata": {
      "needs_background": "light"
     },
     "output_type": "display_data"
    }
   ],
   "source": [
    "plt.matshow(np_hnd_data[1])"
   ]
  },
  {
   "cell_type": "markdown",
   "id": "498daedc",
   "metadata": {},
   "source": [
    "# Complete Data"
   ]
  },
  {
   "cell_type": "code",
   "execution_count": 222,
   "id": "92daaa9f",
   "metadata": {},
   "outputs": [
    {
     "data": {
      "text/plain": [
       "((66402, 28, 28), (66402,))"
      ]
     },
     "execution_count": 222,
     "metadata": {},
     "output_type": "execute_result"
    }
   ],
   "source": [
    "data = np.vstack((np_fnt_data, np_hnd_data))\n",
    "labels = np.hstack((np_fnt_labels, np_hnd_labels))\n",
    "# data = data / 255\n",
    "labels -= 1\n",
    "# temp = (labels > 35) * 26\n",
    "# labels = labels - temp\n",
    "data.shape, labels.shape"
   ]
  },
  {
   "cell_type": "code",
   "execution_count": 223,
   "id": "c3a6ac25",
   "metadata": {},
   "outputs": [
    {
     "data": {
      "image/png": "[encoded data removed]",
      "text/plain": [
       "<Figure size 432x288 with 62 Axes>"
      ]
     },
     "metadata": {},
     "output_type": "display_data"
    }
   ],
   "source": [
    " _, unq_ind= np.unique(labels, return_index=True)\n",
    "for i in range(len(unq_ind)):\n",
    "    plt.subplot(3, 22, i+1)\n",
    "    plt.xticks([])\n",
    "    plt.yticks([])\n",
    "    plt.xlabel(labels[unq_ind[i]])\n",
    "    plt.imshow(data[unq_ind[i]])"
   ]
  },
  {
   "cell_type": "code",
   "execution_count": 225,
   "id": "4a0f1001",
   "metadata": {},
   "outputs": [
    {
     "data": {
      "text/plain": [
       "((49801, 28, 28), (49801,), (16601, 28, 28), (16601,))"
      ]
     },
     "execution_count": 225,
     "metadata": {},
     "output_type": "execute_result"
    }
   ],
   "source": [
    "from sklearn.model_selection import train_test_split\n",
    "x_train, x_test, y_train, y_test = train_test_split(data, labels)\n",
    "x_train.shape, y_train.shape, x_test.shape, y_test.shape"
   ]
  },
  {
   "cell_type": "code",
   "execution_count": 226,
   "id": "6880d17c",
   "metadata": {},
   "outputs": [
    {
     "data": {
      "text/plain": [
       "(array([ 0,  1,  2,  3,  4,  5,  6,  7,  8,  9, 10, 11, 12, 13, 14, 15, 16,\n",
       "        17, 18, 19, 20, 21, 22, 23, 24, 25, 26, 27, 28, 29, 30, 31, 32, 33,\n",
       "        34, 35, 36, 37, 38, 39, 40, 41, 42, 43, 44, 45, 46, 47, 48, 49, 50,\n",
       "        51, 52, 53, 54, 55, 56, 57, 58, 59, 60, 61]),\n",
       " array([806, 785, 782, 809, 798, 773, 797, 816, 805, 813, 820, 805, 796,\n",
       "        797, 805, 798, 790, 771, 813, 811, 810, 790, 791, 803, 811, 814,\n",
       "        788, 839, 809, 790, 801, 799, 780, 817, 809, 788, 821, 792, 808,\n",
       "        807, 790, 803, 825, 806, 793, 810, 819, 814, 819, 802, 799, 813,\n",
       "        793, 817, 809, 812, 810, 780, 813, 794, 820, 803]))"
      ]
     },
     "execution_count": 226,
     "metadata": {},
     "output_type": "execute_result"
    }
   ],
   "source": [
    "np.unique(y_train, return_counts=True)"
   ]
  },
  {
   "cell_type": "markdown",
   "id": "708bc87d",
   "metadata": {},
   "source": [
    "# Model"
   ]
  },
  {
   "cell_type": "code",
   "execution_count": 227,
   "id": "1d577c17",
   "metadata": {},
   "outputs": [],
   "source": [
    "from tensorflow import keras"
   ]
  },
  {
   "cell_type": "code",
   "execution_count": 233,
   "id": "b5778d4a",
   "metadata": {},
   "outputs": [],
   "source": [
    "model = keras.models.Sequential([\n",
    "    keras.layers.Flatten(input_shape=(28, 28)),\n",
    "    keras.layers.BatchNormalization(),\n",
    "    keras.layers.Dense(410, activation='relu'),\n",
    "    keras.layers.Dense(250, activation='relu'),\n",
    "    keras.layers.Dropout(0.2),\n",
    "    keras.layers.Dense(len(unq_ind))\n",
    "])"
   ]
  },
  {
   "cell_type": "code",
   "execution_count": 235,
   "id": "d9656911",
   "metadata": {},
   "outputs": [],
   "source": [
    "model.compile(optimizer='adam',\n",
    "              loss=keras.losses.SparseCategoricalCrossentropy(from_logits=True),\n",
    "              metrics=['accuracy'])"
   ]
  },
  {
   "cell_type": "code",
   "execution_count": 236,
   "id": "719d32e6",
   "metadata": {},
   "outputs": [
    {
     "name": "stdout",
     "output_type": "stream",
     "text": [
      "Epoch 1/10\n",
      "1557/1557 [==============================] - 41s 26ms/step - loss: 1.4996 - accuracy: 0.6173\n",
      "Epoch 2/10\n",
      "1557/1557 [==============================] - 38s 25ms/step - loss: 0.7478 - accuracy: 0.7716\n",
      "Epoch 3/10\n",
      "1557/1557 [==============================] - 44s 28ms/step - loss: 0.6056 - accuracy: 0.8048\n",
      "Epoch 4/10\n",
      "1557/1557 [==============================] - 37s 23ms/step - loss: 0.5260 - accuracy: 0.8230\n",
      "Epoch 5/10\n",
      "1557/1557 [==============================] - 37s 24ms/step - loss: 0.4738 - accuracy: 0.8377\n",
      "Epoch 6/10\n",
      "1557/1557 [==============================] - 36s 23ms/step - loss: 0.4389 - accuracy: 0.8465\n",
      "Epoch 7/10\n",
      "1557/1557 [==============================] - 41s 26ms/step - loss: 0.4025 - accuracy: 0.8564\n",
      "Epoch 8/10\n",
      "1557/1557 [==============================] - 41s 26ms/step - loss: 0.3815 - accuracy: 0.8616\n",
      "Epoch 9/10\n",
      "1557/1557 [==============================] - 37s 24ms/step - loss: 0.3736 - accuracy: 0.8656\n",
      "Epoch 10/10\n",
      "1557/1557 [==============================] - 40s 26ms/step - loss: 0.3433 - accuracy: 0.8774\n"
     ]
    },
    {
     "data": {
      "text/plain": [
       "<tensorflow.python.keras.callbacks.History at 0x7efd4a0123a0>"
      ]
     },
     "execution_count": 236,
     "metadata": {},
     "output_type": "execute_result"
    }
   ],
   "source": [
    "model.fit(x_train, y_train, epochs=10)"
   ]
  },
  {
   "cell_type": "markdown",
   "id": "ce577f57",
   "metadata": {},
   "source": [
    "# Model Test Accuracy"
   ]
  },
  {
   "cell_type": "code",
   "execution_count": 237,
   "id": "129f6624",
   "metadata": {},
   "outputs": [
    {
     "name": "stdout",
     "output_type": "stream",
     "text": [
      "519/519 [==============================] - 5s 9ms/step - loss: 1.8247 - accuracy: 0.8482\n"
     ]
    },
    {
     "data": {
      "text/plain": [
       "84.82019305229187"
      ]
     },
     "execution_count": 237,
     "metadata": {},
     "output_type": "execute_result"
    }
   ],
   "source": [
    "test_loss, test_acc = model.evaluate(x_test, y_test)\n",
    "test_acc * 100"
   ]
  },
  {
   "cell_type": "code",
   "execution_count": 238,
   "id": "c59bd795",
   "metadata": {},
   "outputs": [],
   "source": [
    "prob_model = keras.Sequential([model, keras.layers.Softmax()])"
   ]
  },
  {
   "cell_type": "code",
   "execution_count": 239,
   "id": "1f650176",
   "metadata": {},
   "outputs": [],
   "source": [
    "predictions = prob_model.predict(x_test)"
   ]
  },
  {
   "cell_type": "code",
   "execution_count": 240,
   "id": "cd0f61ae",
   "metadata": {},
   "outputs": [],
   "source": [
    "pred_test = np.argmax(predictions, axis=1)"
   ]
  },
  {
   "cell_type": "code",
   "execution_count": 241,
   "id": "53870ecd",
   "metadata": {},
   "outputs": [
    {
     "data": {
      "text/plain": [
       "array([    5,    11,    12, ..., 16578, 16579, 16600])"
      ]
     },
     "execution_count": 241,
     "metadata": {},
     "output_type": "execute_result"
    }
   ],
   "source": [
    "(fail_cases,) = np.nonzero(pred_test != y_test)\n",
    "fail_cases"
   ]
  },
  {
   "cell_type": "code",
   "execution_count": 242,
   "id": "93865b25",
   "metadata": {},
   "outputs": [
    {
     "data": {
      "text/plain": [
       "(35, 61)"
      ]
     },
     "execution_count": 242,
     "metadata": {},
     "output_type": "execute_result"
    },
    {
     "data": {
      "image/png": "[encoded data removed]",
      "text/plain": [
       "<Figure size 432x288 with 1 Axes>"
      ]
     },
     "metadata": {
      "needs_background": "light"
     },
     "output_type": "display_data"
    }
   ],
   "source": [
    "plt.imshow(x_test[fail_cases[0]])\n",
    "y_test[fail_cases[0]], pred_test[fail_cases[0]]"
   ]
  },
  {
   "cell_type": "markdown",
   "id": "00be8b8c",
   "metadata": {},
   "source": [
    "# Actual Test Accuracy"
   ]
  },
  {
   "cell_type": "code",
   "execution_count": 253,
   "id": "be25e969",
   "metadata": {},
   "outputs": [
    {
     "data": {
      "text/plain": [
       "93.68110354797903"
      ]
     },
     "execution_count": 253,
     "metadata": {},
     "output_type": "execute_result"
    }
   ],
   "source": [
    "# Actual False counts where the predicted character is not the capital/small-case variant of the labelled character\n",
    "false_count = 0\n",
    "for i in fail_cases:\n",
    "    if(y_test[i] > 9 and abs(y_test[i]-pred_test[i]) != 26):\n",
    "        false_count += 1\n",
    "(len(pred_test)-false_count)*100 / len(pred_test)"
   ]
  },
  {
   "cell_type": "code",
   "execution_count": 254,
   "id": "ae8e7c5a",
   "metadata": {},
   "outputs": [
    {
     "name": "stdout",
     "output_type": "stream",
     "text": [
      "INFO:tensorflow:Assets written to: ./models/character-recognition/assets\n"
     ]
    }
   ],
   "source": [
    "prob_model.save('./models/character-recognition')"
   ]
  }
 ],
 "metadata": {
  "kernelspec": {
   "display_name": "Python 3.8.8 ('base')",
   "language": "python",
   "name": "python388jvsc74a57bd056fbd1050eabf44cc0602c76899189118919dff9924cabca39f8975a99ce4c85"
  },
  "language_info": {
   "codemirror_mode": {
    "name": "ipython",
    "version": 3
   },
   "file_extension": ".py",
   "mimetype": "text/x-python",
   "name": "python",
   "nbconvert_exporter": "python",
   "pygments_lexer": "ipython3",
   "version": "3.8.8"
  }
 },
 "nbformat": 4,
 "nbformat_minor": 5
}
