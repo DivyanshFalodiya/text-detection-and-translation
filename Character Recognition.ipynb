{
 "cells": [
  {
   "cell_type": "code",
   "execution_count": 1,
   "id": "a6ac34f1",
   "metadata": {},
   "outputs": [],
   "source": [
    "import numpy as np\n",
    "import pandas as pd\n",
    "import glob\n",
    "import matplotlib.pyplot as plt\n",
    "import cv2"
   ]
  },
  {
   "cell_type": "markdown",
   "id": "c3acd7c2",
   "metadata": {},
   "source": [
    "# New Font Based Model\n",
    "https://archive.ics.uci.edu/ml/datasets/Character+Font+Images#"
   ]
  },
  {
   "cell_type": "markdown",
   "id": "3dd996c3",
   "metadata": {},
   "source": [
    "# Font Based Data"
   ]
  },
  {
   "cell_type": "code",
   "execution_count": 2,
   "id": "21980063",
   "metadata": {},
   "outputs": [
    {
     "data": {
      "text/plain": [
       "62"
      ]
     },
     "execution_count": 2,
     "metadata": {},
     "output_type": "execute_result"
    }
   ],
   "source": [
    "fnt_directories = glob.glob('./datasets/Characters/Fnt/*/')\n",
    "len(fnt_directories)"
   ]
  },
  {
   "cell_type": "code",
   "execution_count": 3,
   "id": "85bfcfc1",
   "metadata": {},
   "outputs": [],
   "source": [
    "fnt_data = []\n",
    "fnt_labels = []\n",
    "for folder in fnt_directories:\n",
    "    label = int((folder[-4:])[:3])\n",
    "    for file in glob.glob(folder+'/*'):\n",
    "        image = cv2.cvtColor(cv2.imread(file), cv2.COLOR_BGR2GRAY)\n",
    "        image = cv2.resize(image, (28,28))\n",
    "        image_arr = np.array(image)\n",
    "        fnt_data.append(image_arr)\n",
    "        fnt_labels.append(label)"
   ]
  },
  {
   "cell_type": "code",
   "execution_count": 4,
   "id": "1a1c20fa",
   "metadata": {},
   "outputs": [],
   "source": [
    "np_fnt_data = np.array(fnt_data)\n",
    "np_fnt_labels = np.array(fnt_labels)"
   ]
  },
  {
   "cell_type": "code",
   "execution_count": 5,
   "id": "509bf8e5",
   "metadata": {},
   "outputs": [
    {
     "data": {
      "text/plain": [
       "((62992, 28, 28), (62992,))"
      ]
     },
     "execution_count": 5,
     "metadata": {},
     "output_type": "execute_result"
    }
   ],
   "source": [
    "np_fnt_data.shape, np_fnt_labels.shape"
   ]
  },
  {
   "cell_type": "code",
   "execution_count": 6,
   "id": "84b512c1",
   "metadata": {},
   "outputs": [
    {
     "data": {
      "text/plain": [
       "<matplotlib.image.AxesImage at 0x7fdd09903400>"
      ]
     },
     "execution_count": 6,
     "metadata": {},
     "output_type": "execute_result"
    },
    {
     "data": {
      "image/png": "[encoded data removed]",
      "text/plain": [
       "<Figure size 288x288 with 1 Axes>"
      ]
     },
     "metadata": {
      "needs_background": "light"
     },
     "output_type": "display_data"
    }
   ],
   "source": [
    "plt.matshow(np_fnt_data[1])"
   ]
  },
  {
   "cell_type": "markdown",
   "id": "fa0c967a",
   "metadata": {},
   "source": [
    "# Handwritten Data"
   ]
  },
  {
   "cell_type": "code",
   "execution_count": 7,
   "id": "84927a57",
   "metadata": {},
   "outputs": [
    {
     "data": {
      "text/plain": [
       "62"
      ]
     },
     "execution_count": 7,
     "metadata": {},
     "output_type": "execute_result"
    }
   ],
   "source": [
    "hnd_directories = glob.glob('./datasets/Characters/Img/*/')\n",
    "len(hnd_directories)"
   ]
  },
  {
   "cell_type": "code",
   "execution_count": 8,
   "id": "2024d864",
   "metadata": {},
   "outputs": [],
   "source": [
    "hnd_data = []\n",
    "hnd_labels = []\n",
    "for folder in hnd_directories:\n",
    "    label = int((folder[-4:])[:3])\n",
    "    for file in glob.glob(folder+'/*'):\n",
    "        image = cv2.cvtColor(cv2.imread(file), cv2.COLOR_BGR2GRAY)\n",
    "        image = cv2.resize(image, (28,28))\n",
    "        image_arr = np.array(image)\n",
    "        hnd_data.append(image_arr)\n",
    "        hnd_labels.append(label)"
   ]
  },
  {
   "cell_type": "code",
   "execution_count": 9,
   "id": "d55ccecb",
   "metadata": {},
   "outputs": [],
   "source": [
    "np_hnd_data = np.array(hnd_data)\n",
    "np_hnd_labels = np.array(hnd_labels)"
   ]
  },
  {
   "cell_type": "code",
   "execution_count": 10,
   "id": "ba2d7476",
   "metadata": {},
   "outputs": [
    {
     "data": {
      "text/plain": [
       "((3410, 28, 28), (3410,))"
      ]
     },
     "execution_count": 10,
     "metadata": {},
     "output_type": "execute_result"
    }
   ],
   "source": [
    "np_hnd_data.shape, np_hnd_labels.shape"
   ]
  },
  {
   "cell_type": "code",
   "execution_count": 11,
   "id": "2a5fe269",
   "metadata": {},
   "outputs": [
    {
     "data": {
      "text/plain": [
       "<matplotlib.image.AxesImage at 0x7fdd062422b0>"
      ]
     },
     "execution_count": 11,
     "metadata": {},
     "output_type": "execute_result"
    },
    {
     "data": {
      "image/png": "[encoded data removed]",
      "text/plain": [
       "<Figure size 288x288 with 1 Axes>"
      ]
     },
     "metadata": {
      "needs_background": "light"
     },
     "output_type": "display_data"
    }
   ],
   "source": [
    "plt.matshow(np_hnd_data[1])"
   ]
  },
  {
   "cell_type": "code",
   "execution_count": 54,
   "id": "ae190cce",
   "metadata": {},
   "outputs": [
    {
     "data": {
      "text/plain": [
       "(array([ 1,  2,  3,  4,  5,  6,  7,  8,  9, 10, 11, 12, 13, 14, 15, 16, 17,\n",
       "        18, 19, 20, 21, 22, 23, 24, 25, 26, 27, 28, 29, 30, 31, 32, 33, 34,\n",
       "        35, 36, 37, 38, 39, 40, 41, 42, 43, 44, 45, 46, 47, 48, 49, 50, 51,\n",
       "        52, 53, 54, 55, 56, 57, 58, 59, 60, 61, 62]),\n",
       " array([1071, 1071, 1071, 1071, 1071, 1071, 1071, 1071, 1071, 1071, 1071,\n",
       "        1071, 1071, 1071, 1071, 1071, 1071, 1071, 1071, 1071, 1071, 1071,\n",
       "        1071, 1071, 1071, 1071, 1071, 1071, 1071, 1071, 1071, 1071, 1071,\n",
       "        1071, 1071, 1071, 1071, 1071, 1071, 1071, 1071, 1071, 1071, 1071,\n",
       "        1071, 1071, 1071, 1071, 1071, 1071, 1071, 1071, 1071, 1071, 1071,\n",
       "        1071, 1071, 1071, 1071, 1071, 1071, 1071]))"
      ]
     },
     "execution_count": 54,
     "metadata": {},
     "output_type": "execute_result"
    },
    {
     "data": {
      "image/png": "[encoded data removed]",
      "text/plain": [
       "<Figure size 432x288 with 1 Axes>"
      ]
     },
     "metadata": {
      "needs_background": "light"
     },
     "output_type": "display_data"
    }
   ],
   "source": [
    "indices, n_indices = np.unique(np.hstack([np_fnt_labels, np_hnd_labels]), return_counts=True)\n",
    "plt.bar(indices, n_indices)\n",
    "indices, n_indices"
   ]
  },
  {
   "cell_type": "markdown",
   "id": "498daedc",
   "metadata": {},
   "source": [
    "# Complete Data"
   ]
  },
  {
   "cell_type": "code",
   "execution_count": 55,
   "id": "92daaa9f",
   "metadata": {},
   "outputs": [
    {
     "data": {
      "text/plain": [
       "((66402, 28, 28), (66402,))"
      ]
     },
     "execution_count": 55,
     "metadata": {},
     "output_type": "execute_result"
    }
   ],
   "source": [
    "data = np.vstack((np_fnt_data, np_hnd_data))\n",
    "labels = np.hstack((np_fnt_labels, np_hnd_labels))\n",
    "# data = np_fnt_data\n",
    "# labels = np_fnt_labels\n",
    "# data = data / 255\n",
    "labels -= 1\n",
    "temp = (labels > 35) * 26\n",
    "labels = labels - temp\n",
    "data.shape, labels.shape"
   ]
  },
  {
   "cell_type": "code",
   "execution_count": 56,
   "id": "c3a6ac25",
   "metadata": {},
   "outputs": [
    {
     "data": {
      "image/png": "[encoded data removed]",
      "text/plain": [
       "<Figure size 432x288 with 36 Axes>"
      ]
     },
     "metadata": {},
     "output_type": "display_data"
    }
   ],
   "source": [
    " _, unq_ind= np.unique(labels, return_index=True)\n",
    "for i in range(len(unq_ind)):\n",
    "    plt.subplot(3, 22, i+1)\n",
    "    plt.xticks([])\n",
    "    plt.yticks([])\n",
    "    plt.xlabel(labels[unq_ind[i]])\n",
    "    plt.imshow(data[unq_ind[i]])"
   ]
  },
  {
   "cell_type": "code",
   "execution_count": 14,
   "id": "4a0f1001",
   "metadata": {},
   "outputs": [
    {
     "data": {
      "text/plain": [
       "((49801, 28, 28), (49801,), (16601, 28, 28), (16601,))"
      ]
     },
     "execution_count": 14,
     "metadata": {},
     "output_type": "execute_result"
    }
   ],
   "source": [
    "from sklearn.model_selection import train_test_split\n",
    "x_train, x_test, y_train, y_test = train_test_split(data, labels)\n",
    "x_train.shape, y_train.shape, x_test.shape, y_test.shape"
   ]
  },
  {
   "cell_type": "code",
   "execution_count": 60,
   "id": "6880d17c",
   "metadata": {},
   "outputs": [
    {
     "data": {
      "text/plain": [
       "(array([ 0,  1,  2,  3,  4,  5,  6,  7,  8,  9, 10, 11, 12, 13, 14, 15, 16,\n",
       "        17, 18, 19, 20, 21, 22, 23, 24, 25, 26, 27, 28, 29, 30, 31, 32, 33,\n",
       "        34, 35]),\n",
       " array([1071, 1071, 1071, 1071, 1071, 1071, 1071, 1071, 1071, 1071, 2142,\n",
       "        2142, 2142, 2142, 2142, 2142, 2142, 2142, 2142, 2142, 2142, 2142,\n",
       "        2142, 2142, 2142, 2142, 2142, 2142, 2142, 2142, 2142, 2142, 2142,\n",
       "        2142, 2142, 2142]))"
      ]
     },
     "execution_count": 60,
     "metadata": {},
     "output_type": "execute_result"
    },
    {
     "data": {
      "image/png": "[encoded data removed]",
      "text/plain": [
       "<Figure size 432x288 with 1 Axes>"
      ]
     },
     "metadata": {
      "needs_background": "light"
     },
     "output_type": "display_data"
    }
   ],
   "source": [
    "indices, n_indices = np.unique(labels, return_counts=True)\n",
    "plt.bar(indices, n_indices)\n",
    "indices, n_indices"
   ]
  },
  {
   "cell_type": "markdown",
   "id": "ff30a1b6",
   "metadata": {},
   "source": [
    "# MNIST"
   ]
  },
  {
   "cell_type": "code",
   "execution_count": 61,
   "id": "083b4769",
   "metadata": {},
   "outputs": [],
   "source": [
    "from tensorflow.keras.datasets.mnist import load_data"
   ]
  },
  {
   "cell_type": "code",
   "execution_count": 64,
   "id": "0cf351cd",
   "metadata": {},
   "outputs": [
    {
     "data": {
      "text/plain": [
       "(60000, 28, 28)"
      ]
     },
     "execution_count": 64,
     "metadata": {},
     "output_type": "execute_result"
    }
   ],
   "source": [
    "(np_mnist_data, np_mnist_labels), (_, _) = load_data()\n",
    "np_mnist_data.shape"
   ]
  },
  {
   "cell_type": "code",
   "execution_count": null,
   "id": "0559cfab",
   "metadata": {},
   "outputs": [],
   "source": []
  },
  {
   "cell_type": "markdown",
   "id": "708bc87d",
   "metadata": {},
   "source": [
    "# Model"
   ]
  },
  {
   "cell_type": "code",
   "execution_count": 16,
   "id": "1d577c17",
   "metadata": {},
   "outputs": [],
   "source": [
    "from tensorflow import keras"
   ]
  },
  {
   "cell_type": "code",
   "execution_count": 17,
   "id": "b5778d4a",
   "metadata": {},
   "outputs": [],
   "source": [
    "model = keras.models.Sequential([\n",
    "    keras.layers.Flatten(input_shape=(28, 28)),\n",
    "    keras.layers.BatchNormalization(),\n",
    "    keras.layers.Dropout(0.2),\n",
    "    keras.layers.Dense(500, activation='relu'),\n",
    "    keras.layers.Dropout(0.2),\n",
    "    keras.layers.Dense(250, activation='relu'),\n",
    "    keras.layers.Dropout(0.1),\n",
    "    keras.layers.Dense(len(unq_ind))\n",
    "])"
   ]
  },
  {
   "cell_type": "code",
   "execution_count": 18,
   "id": "d9656911",
   "metadata": {},
   "outputs": [],
   "source": [
    "model.compile(optimizer='adam',\n",
    "              loss=keras.losses.SparseCategoricalCrossentropy(from_logits=True),\n",
    "              metrics=['accuracy'])"
   ]
  },
  {
   "cell_type": "code",
   "execution_count": 19,
   "id": "719d32e6",
   "metadata": {},
   "outputs": [
    {
     "name": "stdout",
     "output_type": "stream",
     "text": [
      "Epoch 1/10\n",
      "1557/1557 [==============================] - 33s 19ms/step - loss: 1.2586 - accuracy: 0.6702\n",
      "Epoch 2/10\n",
      "1557/1557 [==============================] - 29s 19ms/step - loss: 0.6245 - accuracy: 0.8259\n",
      "Epoch 3/10\n",
      "1557/1557 [==============================] - 29s 19ms/step - loss: 0.5170 - accuracy: 0.8500\n",
      "Epoch 4/10\n",
      "1557/1557 [==============================] - 28s 18ms/step - loss: 0.4510 - accuracy: 0.8677\n",
      "Epoch 5/10\n",
      "1557/1557 [==============================] - 29s 19ms/step - loss: 0.4157 - accuracy: 0.8740\n",
      "Epoch 6/10\n",
      "1557/1557 [==============================] - 29s 18ms/step - loss: 0.3859 - accuracy: 0.8818\n",
      "Epoch 7/10\n",
      "1557/1557 [==============================] - 29s 19ms/step - loss: 0.3688 - accuracy: 0.8864\n",
      "Epoch 8/10\n",
      "1557/1557 [==============================] - 29s 19ms/step - loss: 0.3502 - accuracy: 0.8926\n",
      "Epoch 9/10\n",
      "1557/1557 [==============================] - 29s 18ms/step - loss: 0.3347 - accuracy: 0.9008\n",
      "Epoch 10/10\n",
      "1557/1557 [==============================] - 30s 19ms/step - loss: 0.3234 - accuracy: 0.9006\n"
     ]
    },
    {
     "data": {
      "text/plain": [
       "<tensorflow.python.keras.callbacks.History at 0x7fdcc42a96d0>"
      ]
     },
     "execution_count": 19,
     "metadata": {},
     "output_type": "execute_result"
    }
   ],
   "source": [
    "model.fit(x_train, y_train, epochs=10)"
   ]
  },
  {
   "cell_type": "markdown",
   "id": "ce577f57",
   "metadata": {},
   "source": [
    "# Model Test Accuracy"
   ]
  },
  {
   "cell_type": "code",
   "execution_count": 20,
   "id": "129f6624",
   "metadata": {},
   "outputs": [
    {
     "name": "stdout",
     "output_type": "stream",
     "text": [
      "519/519 [==============================] - 3s 5ms/step - loss: 0.3636 - accuracy: 0.9137\n"
     ]
    },
    {
     "data": {
      "text/plain": [
       "91.37401580810547"
      ]
     },
     "execution_count": 20,
     "metadata": {},
     "output_type": "execute_result"
    }
   ],
   "source": [
    "test_loss, test_acc = model.evaluate(x_test, y_test)\n",
    "test_acc * 100"
   ]
  },
  {
   "cell_type": "code",
   "execution_count": 24,
   "id": "c59bd795",
   "metadata": {},
   "outputs": [],
   "source": [
    "prob_model = keras.Sequential([model, keras.layers.Softmax()])"
   ]
  },
  {
   "cell_type": "code",
   "execution_count": 25,
   "id": "7fd0d633",
   "metadata": {},
   "outputs": [
    {
     "name": "stdout",
     "output_type": "stream",
     "text": [
      "(28, 28)\n"
     ]
    },
    {
     "data": {
      "text/plain": [
       "<matplotlib.image.AxesImage at 0x7fdcbc099f10>"
      ]
     },
     "execution_count": 25,
     "metadata": {},
     "output_type": "execute_result"
    },
    {
     "data": {
      "image/png": "[encoded data removed]",
      "text/plain": [
       "<Figure size 432x288 with 1 Axes>"
      ]
     },
     "metadata": {
      "needs_background": "light"
     },
     "output_type": "display_data"
    }
   ],
   "source": [
    "test_image = cv2.cvtColor(cv2.imread('./one.png'), cv2.COLOR_BGR2GRAY)\n",
    "test_image = cv2.resize(test_image, (28,28))\n",
    "print(test_image.shape)\n",
    "plt.imshow(test_image, cmap='gray')"
   ]
  },
  {
   "cell_type": "code",
   "execution_count": 26,
   "id": "1f650176",
   "metadata": {},
   "outputs": [
    {
     "data": {
      "text/plain": [
       "(1, 28, 28)"
      ]
     },
     "execution_count": 26,
     "metadata": {},
     "output_type": "execute_result"
    }
   ],
   "source": [
    "images = np.array([test_image])\n",
    "images.shape"
   ]
  },
  {
   "cell_type": "code",
   "execution_count": 27,
   "id": "cc4f214b",
   "metadata": {},
   "outputs": [],
   "source": [
    "predictions = prob_model.predict(images)\n",
    "pred_test = np.argmax(predictions, axis=1)"
   ]
  },
  {
   "cell_type": "code",
   "execution_count": 28,
   "id": "0c04302f",
   "metadata": {},
   "outputs": [
    {
     "data": {
      "text/plain": [
       "array([24])"
      ]
     },
     "execution_count": 28,
     "metadata": {},
     "output_type": "execute_result"
    }
   ],
   "source": [
    "pred_test"
   ]
  },
  {
   "cell_type": "markdown",
   "id": "aa0a5bfa",
   "metadata": {},
   "source": [
    "# Actual Test Accuracy"
   ]
  },
  {
   "cell_type": "code",
   "execution_count": 250,
   "id": "53870ecd",
   "metadata": {},
   "outputs": [
    {
     "data": {
      "text/plain": [
       "array([   0,    1,    2, ..., 9957, 9958, 9960])"
      ]
     },
     "execution_count": 250,
     "metadata": {},
     "output_type": "execute_result"
    }
   ],
   "source": [
    "(fail_cases,) = np.nonzero(pred_test != y_test)\n",
    "fail_cases"
   ]
  },
  {
   "cell_type": "code",
   "execution_count": 251,
   "id": "93865b25",
   "metadata": {},
   "outputs": [
    {
     "data": {
      "text/plain": [
       "(14, 57)"
      ]
     },
     "execution_count": 251,
     "metadata": {},
     "output_type": "execute_result"
    },
    {
     "data": {
      "image/png": "[encoded data removed]",
      "text/plain": [
       "<Figure size 432x288 with 1 Axes>"
      ]
     },
     "metadata": {
      "needs_background": "light"
     },
     "output_type": "display_data"
    }
   ],
   "source": [
    "plt.imshow(x_test[fail_cases[0]])\n",
    "y_test[fail_cases[0]], pred_test[fail_cases[0]]"
   ]
  },
  {
   "cell_type": "code",
   "execution_count": 252,
   "id": "be25e969",
   "metadata": {},
   "outputs": [
    {
     "ename": "IndexError",
     "evalue": "index 1 is out of bounds for axis 0 with size 1",
     "output_type": "error",
     "traceback": [
      "\u001b[0;31m---------------------------------------------------------------------------\u001b[0m",
      "\u001b[0;31mIndexError\u001b[0m                                Traceback (most recent call last)",
      "\u001b[0;32m<ipython-input-252-25c330e3fc73>\u001b[0m in \u001b[0;36m<module>\u001b[0;34m\u001b[0m\n\u001b[1;32m      2\u001b[0m \u001b[0mfalse_count\u001b[0m \u001b[0;34m=\u001b[0m \u001b[0;36m0\u001b[0m\u001b[0;34m\u001b[0m\u001b[0;34m\u001b[0m\u001b[0m\n\u001b[1;32m      3\u001b[0m \u001b[0;32mfor\u001b[0m \u001b[0mi\u001b[0m \u001b[0;32min\u001b[0m \u001b[0mfail_cases\u001b[0m\u001b[0;34m:\u001b[0m\u001b[0;34m\u001b[0m\u001b[0;34m\u001b[0m\u001b[0m\n\u001b[0;32m----> 4\u001b[0;31m     \u001b[0;32mif\u001b[0m\u001b[0;34m(\u001b[0m\u001b[0my_test\u001b[0m\u001b[0;34m[\u001b[0m\u001b[0mi\u001b[0m\u001b[0;34m]\u001b[0m \u001b[0;34m>\u001b[0m \u001b[0;36m9\u001b[0m \u001b[0;32mand\u001b[0m \u001b[0mabs\u001b[0m\u001b[0;34m(\u001b[0m\u001b[0my_test\u001b[0m\u001b[0;34m[\u001b[0m\u001b[0mi\u001b[0m\u001b[0;34m]\u001b[0m\u001b[0;34m-\u001b[0m\u001b[0mpred_test\u001b[0m\u001b[0;34m[\u001b[0m\u001b[0mi\u001b[0m\u001b[0;34m]\u001b[0m\u001b[0;34m)\u001b[0m \u001b[0;34m!=\u001b[0m \u001b[0;36m26\u001b[0m\u001b[0;34m)\u001b[0m\u001b[0;34m:\u001b[0m\u001b[0;34m\u001b[0m\u001b[0;34m\u001b[0m\u001b[0m\n\u001b[0m\u001b[1;32m      5\u001b[0m         \u001b[0mfalse_count\u001b[0m \u001b[0;34m+=\u001b[0m \u001b[0;36m1\u001b[0m\u001b[0;34m\u001b[0m\u001b[0;34m\u001b[0m\u001b[0m\n\u001b[1;32m      6\u001b[0m \u001b[0;34m(\u001b[0m\u001b[0mlen\u001b[0m\u001b[0;34m(\u001b[0m\u001b[0mpred_test\u001b[0m\u001b[0;34m)\u001b[0m\u001b[0;34m-\u001b[0m\u001b[0mfalse_count\u001b[0m\u001b[0;34m)\u001b[0m\u001b[0;34m*\u001b[0m\u001b[0;36m100\u001b[0m \u001b[0;34m/\u001b[0m \u001b[0mlen\u001b[0m\u001b[0;34m(\u001b[0m\u001b[0mpred_test\u001b[0m\u001b[0;34m)\u001b[0m\u001b[0;34m\u001b[0m\u001b[0;34m\u001b[0m\u001b[0m\n",
      "\u001b[0;31mIndexError\u001b[0m: index 1 is out of bounds for axis 0 with size 1"
     ]
    }
   ],
   "source": [
    "# Actual False counts where the predicted character is not the capital/small-case variant of the labelled character\n",
    "false_count = 0\n",
    "for i in fail_cases:\n",
    "    if(y_test[i] > 9 and abs(y_test[i]-pred_test[i]) != 26):\n",
    "        false_count += 1\n",
    "(len(pred_test)-false_count)*100 / len(pred_test)"
   ]
  },
  {
   "cell_type": "code",
   "execution_count": 357,
   "id": "ae8e7c5a",
   "metadata": {},
   "outputs": [
    {
     "name": "stdout",
     "output_type": "stream",
     "text": [
      "INFO:tensorflow:Assets written to: ./models/character-recognition/assets\n"
     ]
    }
   ],
   "source": [
    "prob_model.save('./models/character-recognition')"
   ]
  }
 ],
 "metadata": {
  "kernelspec": {
   "display_name": "Python 3.8.8 ('base')",
   "language": "python",
   "name": "python388jvsc74a57bd056fbd1050eabf44cc0602c76899189118919dff9924cabca39f8975a99ce4c85"
  },
  "language_info": {
   "codemirror_mode": {
    "name": "ipython",
    "version": 3
   },
   "file_extension": ".py",
   "mimetype": "text/x-python",
   "name": "python",
   "nbconvert_exporter": "python",
   "pygments_lexer": "ipython3",
   "version": "3.8.8"
  }
 },
 "nbformat": 4,
 "nbformat_minor": 5
}
